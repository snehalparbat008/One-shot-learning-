{
 "cells": [
  {
   "cell_type": "markdown",
   "metadata": {},
   "source": [
    "# Fine Grained Visual Recognization of Sanskrit Script Using Augmented One-Shot Learning"
   ]
  },
  {
   "cell_type": "code",
   "execution_count": 1,
   "metadata": {},
   "outputs": [
    {
     "name": "stdout",
     "output_type": "stream",
     "text": [
      "['Sanskrit_test', 'Sanskrit_train']\n"
     ]
    }
   ],
   "source": [
    "import numpy as np \n",
    "import pandas as pd \n",
    "import matplotlib.pyplot as plt\n",
    "import cv2\n",
    "import os\n",
    "print(os.listdir(\"C:/Users/HP/Desktop/Sanskrit123/\"))\n"
   ]
  },
  {
   "cell_type": "markdown",
   "metadata": {},
   "source": [
    "## 1.Load and Organize Data\n",
    "Here we load and organize the data so we can easily use it inside of Keras models"
   ]
  },
  {
   "cell_type": "code",
   "execution_count": 2,
   "metadata": {},
   "outputs": [],
   "source": [
    "character_list=[]\n",
    "image_name_list=[]\n",
    "path_list=[]\n",
    "basic_path=\"C:/Users/HP/Desktop/Sanskrit123/Sanskrit_train/\"\n",
    "for character in os.listdir(basic_path):\n",
    "    for image_name in os.listdir(basic_path+\"/\"+character):\n",
    "            path=basic_path+\"/\"+character+\"/\"+image_name\n",
    "            image_name_list.append(image_name)\n",
    "            character_list.append(character)\n",
    "            path_list.append(path)\n",
    "            "
   ]
  },
  {
   "cell_type": "code",
   "execution_count": 3,
   "metadata": {},
   "outputs": [
    {
     "data": {
      "text/html": [
       "<div>\n",
       "<style scoped>\n",
       "    .dataframe tbody tr th:only-of-type {\n",
       "        vertical-align: middle;\n",
       "    }\n",
       "\n",
       "    .dataframe tbody tr th {\n",
       "        vertical-align: top;\n",
       "    }\n",
       "\n",
       "    .dataframe thead th {\n",
       "        text-align: right;\n",
       "    }\n",
       "</style>\n",
       "<table border=\"1\" class=\"dataframe\">\n",
       "  <thead>\n",
       "    <tr style=\"text-align: right;\">\n",
       "      <th></th>\n",
       "      <th>character</th>\n",
       "      <th>image_name</th>\n",
       "      <th>path</th>\n",
       "    </tr>\n",
       "  </thead>\n",
       "  <tbody>\n",
       "    <tr>\n",
       "      <th>0</th>\n",
       "      <td>character01</td>\n",
       "      <td>0851_01.png</td>\n",
       "      <td>C:/Users/HP/Desktop/Sanskrit123/Sanskrit_train...</td>\n",
       "    </tr>\n",
       "    <tr>\n",
       "      <th>1</th>\n",
       "      <td>character01</td>\n",
       "      <td>0851_02.png</td>\n",
       "      <td>C:/Users/HP/Desktop/Sanskrit123/Sanskrit_train...</td>\n",
       "    </tr>\n",
       "    <tr>\n",
       "      <th>2</th>\n",
       "      <td>character01</td>\n",
       "      <td>0851_03.png</td>\n",
       "      <td>C:/Users/HP/Desktop/Sanskrit123/Sanskrit_train...</td>\n",
       "    </tr>\n",
       "    <tr>\n",
       "      <th>3</th>\n",
       "      <td>character01</td>\n",
       "      <td>0851_04.png</td>\n",
       "      <td>C:/Users/HP/Desktop/Sanskrit123/Sanskrit_train...</td>\n",
       "    </tr>\n",
       "    <tr>\n",
       "      <th>4</th>\n",
       "      <td>character01</td>\n",
       "      <td>0851_05.png</td>\n",
       "      <td>C:/Users/HP/Desktop/Sanskrit123/Sanskrit_train...</td>\n",
       "    </tr>\n",
       "  </tbody>\n",
       "</table>\n",
       "</div>"
      ],
      "text/plain": [
       "     character   image_name                                               path\n",
       "0  character01  0851_01.png  C:/Users/HP/Desktop/Sanskrit123/Sanskrit_train...\n",
       "1  character01  0851_02.png  C:/Users/HP/Desktop/Sanskrit123/Sanskrit_train...\n",
       "2  character01  0851_03.png  C:/Users/HP/Desktop/Sanskrit123/Sanskrit_train...\n",
       "3  character01  0851_04.png  C:/Users/HP/Desktop/Sanskrit123/Sanskrit_train...\n",
       "4  character01  0851_05.png  C:/Users/HP/Desktop/Sanskrit123/Sanskrit_train..."
      ]
     },
     "execution_count": 3,
     "metadata": {},
     "output_type": "execute_result"
    }
   ],
   "source": [
    "image_name_list = pd.Series(image_name_list)\n",
    "character_list= pd.Series(character_list)\n",
    "path_list = pd.Series(  path_list)\n",
    "df=pd.DataFrame()\n",
    "df[\"character\"]=character_list\n",
    "df[\"image_name\"]=image_name_list\n",
    "df[\"path\"]= path_list \n",
    "df.head(5)"
   ]
  },
  {
   "cell_type": "code",
   "execution_count": 4,
   "metadata": {},
   "outputs": [],
   "source": [
    "character_list=[]\n",
    "image_name_list=[]\n",
    "path_list=[]\n",
    "basic_path=\"C:/Users/HP/Desktop/Sanskrit123/Sanskrit_test/\"\n",
    "for character in os.listdir(basic_path):\n",
    "        for image_name in os.listdir(basic_path+\"/\"+character):\n",
    "            path=basic_path+\"/\"+character+\"/\"+image_name\n",
    "            image_name_list.append(image_name)\n",
    "            character_list.append(character)\n",
    "            path_list.append(path)"
   ]
  },
  {
   "cell_type": "code",
   "execution_count": 5,
   "metadata": {},
   "outputs": [
    {
     "data": {
      "text/html": [
       "<div>\n",
       "<style scoped>\n",
       "    .dataframe tbody tr th:only-of-type {\n",
       "        vertical-align: middle;\n",
       "    }\n",
       "\n",
       "    .dataframe tbody tr th {\n",
       "        vertical-align: top;\n",
       "    }\n",
       "\n",
       "    .dataframe thead th {\n",
       "        text-align: right;\n",
       "    }\n",
       "</style>\n",
       "<table border=\"1\" class=\"dataframe\">\n",
       "  <thead>\n",
       "    <tr style=\"text-align: right;\">\n",
       "      <th></th>\n",
       "      <th>character</th>\n",
       "      <th>image_name</th>\n",
       "      <th>path</th>\n",
       "    </tr>\n",
       "  </thead>\n",
       "  <tbody>\n",
       "    <tr>\n",
       "      <th>0</th>\n",
       "      <td>character01</td>\n",
       "      <td>0951_01.png</td>\n",
       "      <td>C:/Users/HP/Desktop/Sanskrit123/Sanskrit_test/...</td>\n",
       "    </tr>\n",
       "    <tr>\n",
       "      <th>1</th>\n",
       "      <td>character01</td>\n",
       "      <td>0951_02.png</td>\n",
       "      <td>C:/Users/HP/Desktop/Sanskrit123/Sanskrit_test/...</td>\n",
       "    </tr>\n",
       "    <tr>\n",
       "      <th>2</th>\n",
       "      <td>character01</td>\n",
       "      <td>0951_03.png</td>\n",
       "      <td>C:/Users/HP/Desktop/Sanskrit123/Sanskrit_test/...</td>\n",
       "    </tr>\n",
       "    <tr>\n",
       "      <th>3</th>\n",
       "      <td>character01</td>\n",
       "      <td>0951_04.png</td>\n",
       "      <td>C:/Users/HP/Desktop/Sanskrit123/Sanskrit_test/...</td>\n",
       "    </tr>\n",
       "    <tr>\n",
       "      <th>4</th>\n",
       "      <td>character01</td>\n",
       "      <td>0951_05.png</td>\n",
       "      <td>C:/Users/HP/Desktop/Sanskrit123/Sanskrit_test/...</td>\n",
       "    </tr>\n",
       "  </tbody>\n",
       "</table>\n",
       "</div>"
      ],
      "text/plain": [
       "     character   image_name                                               path\n",
       "0  character01  0951_01.png  C:/Users/HP/Desktop/Sanskrit123/Sanskrit_test/...\n",
       "1  character01  0951_02.png  C:/Users/HP/Desktop/Sanskrit123/Sanskrit_test/...\n",
       "2  character01  0951_03.png  C:/Users/HP/Desktop/Sanskrit123/Sanskrit_test/...\n",
       "3  character01  0951_04.png  C:/Users/HP/Desktop/Sanskrit123/Sanskrit_test/...\n",
       "4  character01  0951_05.png  C:/Users/HP/Desktop/Sanskrit123/Sanskrit_test/..."
      ]
     },
     "execution_count": 5,
     "metadata": {},
     "output_type": "execute_result"
    }
   ],
   "source": [
    "image_name_list = pd.Series(image_name_list)\n",
    "character_list= pd.Series(character_list)\n",
    "path_list = pd.Series(  path_list)\n",
    "Sanskrit_test_df=pd.DataFrame()\n",
    "Sanskrit_test_df[\"character\"]=character_list\n",
    "Sanskrit_test_df[\"image_name\"]=image_name_list\n",
    "Sanskrit_test_df[\"path\"]= path_list \n",
    "Sanskrit_test_df.head(5)"
   ]
  },
  {
   "cell_type": "code",
   "execution_count": 6,
   "metadata": {},
   "outputs": [
    {
     "name": "stdout",
     "output_type": "stream",
     "text": [
      "Training Dataframe Length 498\n",
      "testing Dataframe length 100\n",
      "\n",
      "\n",
      "\n",
      "\n",
      "Training Dataframe Length where images = true 498\n",
      "Testing Dataframe Length where images = true 100\n"
     ]
    }
   ],
   "source": [
    "df['exists'] = df['path'].map(os.path.exists)\n",
    "Sanskrit_test_df['exists'] = Sanskrit_test_df['path'].map(os.path.exists)\n",
    "print(\"Training Dataframe Length\",len(df))\n",
    "print(\"testing Dataframe length\",len(Sanskrit_test_df))\n",
    "print(\"\\n\\n\\n\")\n",
    "\n",
    "print(\"Training Dataframe Length where images = true\",len(df[df.exists == True]))\n",
    "print(\"Testing Dataframe Length where images = true\",len(Sanskrit_test_df[Sanskrit_test_df.exists == True]))"
   ]
  },
  {
   "cell_type": "code",
   "execution_count": 7,
   "metadata": {},
   "outputs": [
    {
     "name": "stdout",
     "output_type": "stream",
     "text": [
      "X Train shape (498, 105, 105)\n",
      "Y Train shape (498,)\n"
     ]
    }
   ],
   "source": [
    "X_train=[]\n",
    "y_train=[]\n",
    "\n",
    "for i in range (0,len(df)):\n",
    "    img=plt.imread(df.path.iloc[i])\n",
    "    X_train.append(img)\n",
    "    y_train.append(df.character.iloc[i])\n",
    "\n",
    "X_train=np.asarray(X_train)\n",
    "y_train=np.asarray(y_train)\n",
    "print(\"X Train shape\",X_train.shape)\n",
    "print(\"Y Train shape\",y_train.shape)\n"
   ]
  },
  {
   "cell_type": "code",
   "execution_count": 8,
   "metadata": {},
   "outputs": [
    {
     "name": "stdout",
     "output_type": "stream",
     "text": [
      "Y test shape (100,)\n",
      "X_test shape (100, 105, 105)\n"
     ]
    }
   ],
   "source": [
    "X_test=[]\n",
    "y_test=[]\n",
    "for i in range (0,len(Sanskrit_test_df)):\n",
    "    img=plt.imread(Sanskrit_test_df.path.iloc[i])\n",
    "    X_test.append(img)\n",
    "    y_test.append(Sanskrit_test_df.character.iloc[i])\n",
    "\n",
    "X_test=np.asarray(X_test)\n",
    "y_test=np.asarray(y_test)\n",
    "print(\"Y test shape\",y_test.shape)\n",
    "print(\"X_test shape\",X_test.shape)"
   ]
  },
  {
   "cell_type": "code",
   "execution_count": 9,
   "metadata": {},
   "outputs": [
    {
     "name": "stdout",
     "output_type": "stream",
     "text": [
      "train groups: [199, 14, 15, 15, 15, 15, 15, 15, 15, 15, 15, 15, 15, 15, 15, 15, 15, 15, 15, 15, 15]\n",
      "test groups: [5, 5, 5, 5, 5, 5, 5, 5, 5, 5, 5, 5, 5, 5, 5, 5, 5, 5, 5, 5]\n"
     ]
    }
   ],
   "source": [
    "X_train=X_train.reshape(X_train.shape[0],105,105,1)\n",
    "X_test=X_test.reshape(X_test.shape[0],105,105,1)\n",
    "train_groups = [X_train[np.where(y_train==i)[0]] for i in np.unique(y_train)]\n",
    "test_groups = [X_test[np.where(y_test==i)[0]] for i in np.unique(y_test)]\n",
    "print('train groups:', [X.shape[0] for X in train_groups])\n",
    "print('test groups:', [X.shape[0] for X in test_groups])"
   ]
  },
  {
   "cell_type": "code",
   "execution_count": 14,
   "metadata": {},
   "outputs": [
    {
     "name": "stdout",
     "output_type": "stream",
     "text": [
      "(105, 105, 1)\n",
      "(105, 105)\n"
     ]
    },
    {
     "data": {
      "image/png": "[encoded data removed]",
      "text/plain": [
       "<Figure size 432x288 with 1 Axes>"
      ]
     },
     "metadata": {
      "needs_background": "light"
     },
     "output_type": "display_data"
    }
   ],
   "source": [
    "w=train_groups[3][12][:,:,0]\n",
    "plt.imshow(w,'bone_r')\n",
    "print(train_groups[3][12].shape)\n",
    "print(w.shape)"
   ]
  },
  {
   "cell_type": "markdown",
   "metadata": {},
   "source": [
    "## 2.Batch Generation\n"
   ]
  },
  {
   "cell_type": "code",
   "execution_count": 16,
   "metadata": {},
   "outputs": [],
   "source": [
    "def gen_random_batch(in_groups, batch_halfsize = 8):\n",
    "    out_img_a, out_img_b, out_score = [], [], []\n",
    "    all_groups = list(range(len(in_groups)))\n",
    "    for match_group in [True, False]:\n",
    "        group_idx = np.random.choice(all_groups, size = batch_halfsize)\n",
    "        out_img_a += [in_groups[c_idx][np.random.choice(range(in_groups[c_idx].shape[0]))] for c_idx in group_idx]\n",
    "        if match_group:\n",
    "            b_group_idx = group_idx\n",
    "            out_score += [1]*batch_halfsize\n",
    "        else:\n",
    "            \n",
    "            non_group_idx = [np.random.choice([i for i in all_groups if i!=c_idx]) for c_idx in group_idx] \n",
    "            b_group_idx = non_group_idx\n",
    "            out_score += [0]*batch_halfsize\n",
    "            \n",
    "        out_img_b += [in_groups[c_idx][np.random.choice(range(in_groups[c_idx].shape[0]))] for c_idx in b_group_idx]\n",
    "            \n",
    "    return np.stack(out_img_a,0), np.stack(out_img_b,0), np.stack(out_score,0)"
   ]
  },
  {
   "cell_type": "code",
   "execution_count": 17,
   "metadata": {},
   "outputs": [
    {
     "name": "stdout",
     "output_type": "stream",
     "text": [
      "Training set language 21\n",
      "Testing set language 20\n"
     ]
    }
   ],
   "source": [
    "print(\"Training set language\",len(df.character.value_counts()))\n",
    "print(\"Testing set language\",len(Sanskrit_test_df.character.value_counts()))"
   ]
  },
  {
   "cell_type": "code",
   "execution_count": 18,
   "metadata": {},
   "outputs": [
    {
     "name": "stdout",
     "output_type": "stream",
     "text": [
      "length of labels 498\n",
      "length of Evaluation_labels 100\n"
     ]
    }
   ],
   "source": [
    "def generate_one_hot_encoding(classes):\n",
    "    encoder = LabelBinarizer()\n",
    "    transfomed_labels = encoder.fit_transform(classes)\n",
    "    return transfomed_labels\n",
    "df_character=df.character\n",
    "Sanskrit_test_language=Sanskrit_test_df.character\n",
    "labels = generate_one_hot_encoding(df_character)\n",
    "Sanskrit_test_labels=generate_one_hot_encoding(Sanskrit_test_language)\n",
    "\n",
    "print(\"length of labels\",len(labels))\n",
    "print(\"length of Evaluation_labels\",len(Sanskrit_test_labels))"
   ]
  },
  {
   "cell_type": "markdown",
   "metadata": {},
   "source": [
    "## 3.Validate Data\n",
    "Here we make sure the generator is doing something sensible, we show the images and their similarity\n",
    "percentage."
   ]
  },
  {
   "cell_type": "code",
   "execution_count": 21,
   "metadata": {},
   "outputs": [
    {
     "data": {
      "image/png": "[encoded data removed]",
      "text/plain": [
       "<Figure size 864x432 with 12 Axes>"
      ]
     },
     "metadata": {
      "needs_background": "light"
     },
     "output_type": "display_data"
    }
   ],
   "source": [
    "X_train=X_train.reshape(X_train.shape[0],105,105,1)\n",
    "X_test=X_test.reshape(X_test.shape[0],105,105,1)\n",
    "pv_a, pv_b, pv_sim = gen_random_batch(train_groups, 3)\n",
    "fig, m_axs = plt.subplots(2, pv_a.shape[0], figsize = (12, 6),)\n",
    "for c_a, c_b, c_d, (ax1, ax2) in zip(pv_a, pv_b, pv_sim, m_axs.T):\n",
    "    ax1.imshow(c_a[:,:,0],'bone_r')\n",
    "    ax1.set_title('Image A')\n",
    "    ax1.axis('off')\n",
    "    ax2.imshow(c_b[:,:,0],'bone_r')\n",
    "    ax2.set_title('Image B\\n Similarity: %3.0f%%' % (100*c_d))\n",
    "    ax2.axis('off')"
   ]
  },
  {
   "cell_type": "markdown",
   "metadata": {},
   "source": [
    "## 4.Let's define our model now"
   ]
  },
  {
   "cell_type": "code",
   "execution_count": 15,
   "metadata": {},
   "outputs": [],
   "source": [
    "from keras.models import Sequential\n",
    "import time\n",
    "from keras.optimizers import Adam\n",
    "from keras.layers import Conv2D, ZeroPadding2D, Activation, Input, concatenate\n",
    "from keras.models import Model\n",
    "import seaborn as sns\n",
    "from keras.layers.normalization import BatchNormalization\n",
    "from keras.layers.pooling import MaxPooling2D, AveragePooling2D\n",
    "from keras.layers.merge import Concatenate\n",
    "from keras.layers.core import Lambda, Flatten, Dense\n",
    "from sklearn.preprocessing import LabelBinarizer\n",
    "from keras.optimizers import *\n",
    "from keras.engine.topology import Layer\n",
    "from keras import backend as K\n",
    "from keras.regularizers import l2\n",
    "K.set_image_data_format('channels_last')\n",
    "import cv2\n",
    "import os\n",
    "import numpy as np\n",
    "from numpy import genfromtxt\n",
    "import pandas as pd\n",
    "import tensorflow as tf\n",
    "\n",
    "import numpy.random as rng\n",
    "from sklearn.utils import shuffle\n"
   ]
  },
  {
   "cell_type": "markdown",
   "metadata": {},
   "source": [
    "## 4:1.Feature Generation\n",
    "Here we make the feature generation network to process images into features \n",
    "and network will be trained to generate useful vector features from input images."
   ]
  },
  {
   "cell_type": "code",
   "execution_count": 22,
   "metadata": {},
   "outputs": [
    {
     "name": "stdout",
     "output_type": "stream",
     "text": [
      "Model: \"FeatureGenerationModel\"\n",
      "_________________________________________________________________\n",
      "Layer (type)                 Output Shape              Param #   \n",
      "=================================================================\n",
      "FeatureNet_ImageInput (Input [(None, 105, 105, 1)]     0         \n",
      "_________________________________________________________________\n",
      "conv2d (Conv2D)              (None, 103, 103, 8)       80        \n",
      "_________________________________________________________________\n",
      "batch_normalization (BatchNo (None, 103, 103, 8)       32        \n",
      "_________________________________________________________________\n",
      "activation (Activation)      (None, 103, 103, 8)       0         \n",
      "_________________________________________________________________\n",
      "conv2d_1 (Conv2D)            (None, 101, 101, 16)      1168      \n",
      "_________________________________________________________________\n",
      "batch_normalization_1 (Batch (None, 101, 101, 16)      64        \n",
      "_________________________________________________________________\n",
      "activation_1 (Activation)    (None, 101, 101, 16)      0         \n",
      "_________________________________________________________________\n",
      "max_pooling2d (MaxPooling2D) (None, 50, 50, 16)        0         \n",
      "_________________________________________________________________\n",
      "conv2d_2 (Conv2D)            (None, 48, 48, 16)        2320      \n",
      "_________________________________________________________________\n",
      "batch_normalization_2 (Batch (None, 48, 48, 16)        64        \n",
      "_________________________________________________________________\n",
      "activation_2 (Activation)    (None, 48, 48, 16)        0         \n",
      "_________________________________________________________________\n",
      "conv2d_3 (Conv2D)            (None, 46, 46, 32)        4640      \n",
      "_________________________________________________________________\n",
      "batch_normalization_3 (Batch (None, 46, 46, 32)        128       \n",
      "_________________________________________________________________\n",
      "activation_3 (Activation)    (None, 46, 46, 32)        0         \n",
      "_________________________________________________________________\n",
      "max_pooling2d_1 (MaxPooling2 (None, 23, 23, 32)        0         \n",
      "_________________________________________________________________\n",
      "flatten (Flatten)            (None, 16928)             0         \n",
      "_________________________________________________________________\n",
      "dense (Dense)                (None, 32)                541728    \n",
      "_________________________________________________________________\n",
      "dropout (Dropout)            (None, 32)                0         \n",
      "_________________________________________________________________\n",
      "batch_normalization_4 (Batch (None, 32)                128       \n",
      "_________________________________________________________________\n",
      "activation_4 (Activation)    (None, 32)                0         \n",
      "=================================================================\n",
      "Total params: 550,352\n",
      "Trainable params: 550,144\n",
      "Non-trainable params: 208\n",
      "_________________________________________________________________\n"
     ]
    }
   ],
   "source": [
    "from keras.models import Model\n",
    "from keras.layers import Input, Conv2D, BatchNormalization, MaxPool2D, Activation, Flatten, Dense, Dropout\n",
    "img_in = Input(shape = X_train.shape[1:], name = 'FeatureNet_ImageInput')\n",
    "n_layer = img_in\n",
    "for i in range(2):\n",
    "    n_layer = Conv2D(8*2**i, kernel_size = (3,3), activation = 'relu')(n_layer)\n",
    "    n_layer = BatchNormalization()(n_layer)\n",
    "    n_layer = Activation('relu')(n_layer)\n",
    "    n_layer = Conv2D(16*2**i, kernel_size = (3,3), activation = 'relu')(n_layer)\n",
    "    n_layer = BatchNormalization()(n_layer)\n",
    "    n_layer = Activation('relu')(n_layer)\n",
    "    n_layer = MaxPool2D((2,2))(n_layer)\n",
    "n_layer = Flatten()(n_layer)\n",
    "n_layer = Dense(32, activation = 'linear')(n_layer)\n",
    "n_layer = Dropout(0.5)(n_layer)\n",
    "n_layer = BatchNormalization()(n_layer)\n",
    "n_layer = Activation('relu')(n_layer)\n",
    "feature_model = Model(inputs = [img_in], outputs = [n_layer], name = 'FeatureGenerationModel')\n",
    "feature_model.summary()"
   ]
  },
  {
   "cell_type": "markdown",
   "metadata": {},
   "source": [
    "## 4:2.Siamese Model\n",
    "We apply the feature generating model to both images and then combine them together to predict if they are\n",
    "similar or not. "
   ]
  },
  {
   "cell_type": "code",
   "execution_count": 23,
   "metadata": {},
   "outputs": [
    {
     "name": "stdout",
     "output_type": "stream",
     "text": [
      "Model: \"Similarity_Model\"\n",
      "__________________________________________________________________________________________________\n",
      "Layer (type)                    Output Shape         Param #     Connected to                     \n",
      "==================================================================================================\n",
      "ImageA_Input (InputLayer)       [(None, 105, 105, 1) 0                                            \n",
      "__________________________________________________________________________________________________\n",
      "ImageB_Input (InputLayer)       [(None, 105, 105, 1) 0                                            \n",
      "__________________________________________________________________________________________________\n",
      "FeatureGenerationModel (Functio (None, 32)           550352      ImageA_Input[0][0]               \n",
      "                                                                 ImageB_Input[0][0]               \n",
      "__________________________________________________________________________________________________\n",
      "merge_features (Concatenate)    (None, 64)           0           FeatureGenerationModel[0][0]     \n",
      "                                                                 FeatureGenerationModel[1][0]     \n",
      "__________________________________________________________________________________________________\n",
      "dense_1 (Dense)                 (None, 64)           4160        merge_features[0][0]             \n",
      "__________________________________________________________________________________________________\n",
      "batch_normalization_5 (BatchNor (None, 64)           256         dense_1[0][0]                    \n",
      "__________________________________________________________________________________________________\n",
      "activation_5 (Activation)       (None, 64)           0           batch_normalization_5[0][0]      \n",
      "__________________________________________________________________________________________________\n",
      "dense_2 (Dense)                 (None, 32)           2080        activation_5[0][0]               \n",
      "__________________________________________________________________________________________________\n",
      "batch_normalization_6 (BatchNor (None, 32)           128         dense_2[0][0]                    \n",
      "__________________________________________________________________________________________________\n",
      "activation_6 (Activation)       (None, 32)           0           batch_normalization_6[0][0]      \n",
      "__________________________________________________________________________________________________\n",
      "dense_3 (Dense)                 (None, 1)            33          activation_6[0][0]               \n",
      "==================================================================================================\n",
      "Total params: 557,009\n",
      "Trainable params: 556,609\n",
      "Non-trainable params: 400\n",
      "__________________________________________________________________________________________________\n"
     ]
    }
   ],
   "source": [
    "from keras.layers import concatenate\n",
    "img_a_in = Input(shape = X_train.shape[1:], name = 'ImageA_Input')\n",
    "img_b_in = Input(shape = X_train.shape[1:], name = 'ImageB_Input')\n",
    "img_a_feat = feature_model(img_a_in)\n",
    "img_b_feat = feature_model(img_b_in)\n",
    "combined_features = concatenate([img_a_feat, img_b_feat], name = 'merge_features')\n",
    "combined_features = Dense(64, activation = 'relu')(combined_features)\n",
    "combined_features = BatchNormalization()(combined_features)\n",
    "combined_features = Activation('relu')(combined_features)\n",
    "combined_features = Dense(32, activation = 'relu')(combined_features)\n",
    "combined_features = BatchNormalization()(combined_features)\n",
    "combined_features = Activation('relu')(combined_features)\n",
    "combined_features = Dense(1, activation = 'sigmoid')(combined_features)\n",
    "similarity_model = Model(inputs = [img_a_in, img_b_in], outputs = [combined_features], name = 'Similarity_Model')\n",
    "similarity_model.summary()"
   ]
  },
  {
   "cell_type": "code",
   "execution_count": 24,
   "metadata": {},
   "outputs": [],
   "source": [
    "similarity_model.compile(optimizer='adam', loss = 'binary_crossentropy', metrics = ['accuracy'])"
   ]
  },
  {
   "cell_type": "markdown",
   "metadata": {},
   "source": [
    "## 5.Visual Model Feedback\n",
    "Here we visualize what the model does by taking a small sample of randomly selected A and B images the first\n",
    "half from the same category and the second from different categories."
   ]
  },
  {
   "cell_type": "code",
   "execution_count": 25,
   "metadata": {},
   "outputs": [
    {
     "data": {
      "image/png": "[encoded data removed]",
      "text/plain": [
       "<Figure size 864x432 with 12 Axes>"
      ]
     },
     "metadata": {
      "needs_background": "light"
     },
     "output_type": "display_data"
    }
   ],
   "source": [
    "def show_model_output(nb_examples = 3):\n",
    "    pv_a, pv_b, pv_sim = gen_random_batch(test_groups, nb_examples)\n",
    "    pred_sim = similarity_model.predict([pv_a, pv_b])\n",
    "    fig, m_axs = plt.subplots(2, pv_a.shape[0], figsize = (12, 6))\n",
    "    for c_a, c_b, c_d, p_d, (ax1, ax2) in zip(pv_a, pv_b, pv_sim, pred_sim, m_axs.T):\n",
    "        ax1.imshow(c_a[:,:,0],'bone_r')\n",
    "        ax1.set_title('Image A\\n Actual: %3.0f%%' % (100*c_d))\n",
    "        ax1.axis('off')\n",
    "        ax2.imshow(c_b[:,:,0],'bone_r')\n",
    "        ax2.set_title('Image B\\n Predicted: %3.0f%%' % (100*p_d))\n",
    "        ax2.axis('off')\n",
    "    return fig\n",
    "\n",
    "_ = show_model_output()"
   ]
  },
  {
   "cell_type": "code",
   "execution_count": 26,
   "metadata": {},
   "outputs": [
    {
     "name": "stderr",
     "output_type": "stream",
     "text": [
      "C:\\Users\\HP\\anaconda3\\lib\\site-packages\\tensorflow\\python\\keras\\engine\\training.py:1844: UserWarning: `Model.fit_generator` is deprecated and will be removed in a future version. Please use `Model.fit`, which supports generators.\n",
      "  warnings.warn('`Model.fit_generator` is deprecated and '\n"
     ]
    },
    {
     "name": "stdout",
     "output_type": "stream",
     "text": [
      "Epoch 1/10\n",
      "500/500 [==============================] - 1141s 2s/step - loss: 0.7635 - accuracy: 0.5041 - val_loss: 0.6933 - val_accuracy: 0.4961\n",
      "Epoch 2/10\n",
      "500/500 [==============================] - 1027s 2s/step - loss: 0.6978 - accuracy: 0.5275 - val_loss: 0.7083 - val_accuracy: 0.4937\n",
      "Epoch 3/10\n",
      "500/500 [==============================] - 959s 2s/step - loss: 0.6449 - accuracy: 0.6195 - val_loss: 0.6723 - val_accuracy: 0.5620\n",
      "Epoch 4/10\n",
      "500/500 [==============================] - 951s 2s/step - loss: 0.5458 - accuracy: 0.7249 - val_loss: 0.5709 - val_accuracy: 0.7051\n",
      "Epoch 5/10\n",
      "500/500 [==============================] - 988s 2s/step - loss: 0.4945 - accuracy: 0.7643 - val_loss: 0.5432 - val_accuracy: 0.7358\n",
      "Epoch 6/10\n",
      "500/500 [==============================] - 963s 2s/step - loss: 0.4892 - accuracy: 0.7701 - val_loss: 0.5483 - val_accuracy: 0.7402\n",
      "Epoch 7/10\n",
      "500/500 [==============================] - 1124s 2s/step - loss: 0.4678 - accuracy: 0.7849 - val_loss: 0.4748 - val_accuracy: 0.7715\n",
      "Epoch 8/10\n",
      "500/500 [==============================] - 1094s 2s/step - loss: 0.4472 - accuracy: 0.7967 - val_loss: 0.4781 - val_accuracy: 0.7710\n",
      "Epoch 9/10\n",
      "500/500 [==============================] - 1025s 2s/step - loss: 0.4255 - accuracy: 0.8110 - val_loss: 0.4751 - val_accuracy: 0.7764\n",
      "Epoch 10/10\n",
      "500/500 [==============================] - 975s 2s/step - loss: 0.4038 - accuracy: 0.8279 - val_loss: 0.4904 - val_accuracy: 0.7656\n"
     ]
    }
   ],
   "source": [
    "# make a generator out of the data\n",
    "def siam_gen(in_groups, batch_size = 30):\n",
    "    while True:\n",
    "        pv_a, pv_b, pv_sim = gen_random_batch(train_groups, batch_size//2)\n",
    "        yield [pv_a, pv_b], pv_sim\n",
    "valid_a, valid_b, valid_sim = gen_random_batch(test_groups, 1024)\n",
    "loss_history = similarity_model.fit_generator(siam_gen(train_groups), \n",
    "                               steps_per_epoch = 500,\n",
    "                               validation_data=([valid_a, valid_b], valid_sim),\n",
    "                                              epochs = 10,\n",
    "                                             verbose = True)"
   ]
  },
  {
   "cell_type": "code",
   "execution_count": 27,
   "metadata": {},
   "outputs": [
    {
     "data": {
      "image/png": "[encoded data removed]",
      "text/plain": [
       "<Figure size 864x432 with 12 Axes>"
      ]
     },
     "metadata": {
      "needs_background": "light"
     },
     "output_type": "display_data"
    }
   ],
   "source": [
    "_ = show_model_output()"
   ]
  },
  {
   "cell_type": "markdown",
   "metadata": {},
   "source": [
    "## 6.Performance of Network"
   ]
  },
  {
   "cell_type": "code",
   "execution_count": 28,
   "metadata": {},
   "outputs": [
    {
     "data": {
      "image/png": "[encoded data removed]",
      "text/plain": [
       "<Figure size 432x288 with 1 Axes>"
      ]
     },
     "metadata": {
      "needs_background": "light"
     },
     "output_type": "display_data"
    }
   ],
   "source": [
    "from matplotlib import pyplot as plt\n",
    "plt.plot(loss_history.history['loss'],'r',label='training loss')\n",
    "plt.plot(loss_history.history['val_loss'],label='validation loss')\n",
    "plt.xlabel('#epochs')\n",
    "plt.ylabel('loss')\n",
    "plt.legend()\n",
    "plt.show()"
   ]
  },
  {
   "cell_type": "code",
   "execution_count": 29,
   "metadata": {},
   "outputs": [
    {
     "data": {
      "image/png": "[encoded data removed]",
      "text/plain": [
       "<Figure size 432x288 with 1 Axes>"
      ]
     },
     "metadata": {
      "needs_background": "light"
     },
     "output_type": "display_data"
    }
   ],
   "source": [
    "plt.plot(loss_history.history['accuracy'],'r',label='training accuracy')\n",
    "plt.plot(loss_history.history['val_accuracy'],label='validation accuracy')\n",
    "plt.xlabel('#epochs')\n",
    "plt.ylabel('accuracy')\n",
    "plt.legend()\n",
    "plt.show()"
   ]
  },
  {
   "cell_type": "code",
   "execution_count": null,
   "metadata": {},
   "outputs": [],
   "source": []
  }
 ],
 "metadata": {
  "kernelspec": {
   "display_name": "Python 3",
   "language": "python",
   "name": "python3"
  },
  "language_info": {
   "codemirror_mode": {
    "name": "ipython",
    "version": 3
   },
   "file_extension": ".py",
   "mimetype": "text/x-python",
   "name": "python",
   "nbconvert_exporter": "python",
   "pygments_lexer": "ipython3",
   "version": "3.7.9"
  }
 },
 "nbformat": 4,
 "nbformat_minor": 4
}
